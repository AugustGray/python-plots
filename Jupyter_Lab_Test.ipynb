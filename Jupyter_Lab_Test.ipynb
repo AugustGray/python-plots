{
 "cells": [
  {
   "cell_type": "code",
   "execution_count": 4,
   "source": [
    "import numpy as np \n",
    "import matplotlib.pyplot as plt \n",
    "  \n",
    "X = ['Lunes','Martes','Miercoles','Jueves','Viernes','Sábado','Domingo']\n",
    "YSchoolIn = [8,10.5,10.5,8,15,0,0]\n",
    "YSchoolOut = [14,14.5,12.5,9.5,17,0,0]\n",
    "ZWorkIn = [15,16,16,12,6.5,0,12]\n",
    "ZWorkOut = [21.5,21.5,21.5,21.5,14,0,21.5]\n",
    "  \n",
    "X_axis = np.arange(len(X))\n",
    "  \n",
    "\n",
    "plt.bar(X_axis - 0.2, YSchoolOut, 0.4, label = 'School', color = \"#50FA7B\")\n",
    "plt.bar(X_axis - 0.2, YSchoolIn, 0.4, label = 'School', color = \"white\")\n",
    "plt.bar(X_axis + 0.2, ZWorkOut, 0.4, label = 'Work', color = \"#BD93F9\")\n",
    "plt.bar(X_axis + 0.2, ZWorkIn, 0.4, label = 'Work', color = \"white\")\n",
    "  \n",
    "plt.xticks(X_axis, X)\n",
    "\n",
    "plt.ylim(6)\n",
    "\n",
    "# plt.xlabel(\"Days\")\n",
    "plt.ylabel(\"Hours\")\n",
    "plt.title(\"Weekly Schedule\")\n",
    "plt.legend()\n",
    "plt.grid()\n",
    "plt.show()"
   ],
   "outputs": [
    {
     "output_type": "display_data",
     "data": {
      "image/png": "[encoded data removed]",
      "text/plain": [
       "<Figure size 432x288 with 1 Axes>"
      ]
     },
     "metadata": {
      "needs_background": "light"
     }
    }
   ],
   "metadata": {}
  },
  {
   "cell_type": "code",
   "execution_count": 3,
   "source": [
    "import numpy as np \n",
    "import matplotlib.pyplot as plt \n",
    "  \n",
    "X = ['Lunes','Martes','Miercoles','Jueves','Viernes','Sábado','Domingo']\n",
    "YSchoolIn = [8,10.5,10.5,8,15,0,0]\n",
    "YSchoolOut = [14,14.5,12.5,9.5,17,0,0]\n",
    "ZWorkIn = [15,16,16,12,6.5,0,12]\n",
    "ZWorkOut = [21.5,21.5,21.5,21.5,14,0,21.5]\n",
    "  \n",
    "X_axis = np.arange(len(X))\n",
    "  \n",
    "plt.bar(X_axis, ZWorkOut, 0.4, label = 'Work', color = \"#BD93F9\")\n",
    "plt.bar(X_axis, ZWorkIn, 0.4, label = 'Work', color = \"white\")\n",
    "plt.bar(X_axis, YSchoolOut, 0.4, label = 'School', color = \"#50FA7B\")\n",
    "plt.bar(X_axis, YSchoolIn, 0.4, label = 'School', color = \"white\")\n",
    "  \n",
    "plt.xticks(X_axis, X)\n",
    "\n",
    "plt.ylim(6)\n",
    "\n",
    "# plt.xlabel(\"Days\")\n",
    "plt.ylabel(\"Hours\")\n",
    "plt.title(\"Weekly Schedule\")\n",
    "plt.legend()\n",
    "plt.grid()\n",
    "plt.show()"
   ],
   "outputs": [
    {
     "output_type": "display_data",
     "data": {
      "image/png": "[encoded data removed]",
      "text/plain": [
       "<Figure size 432x288 with 1 Axes>"
      ]
     },
     "metadata": {
      "needs_background": "light"
     }
    }
   ],
   "metadata": {}
  },
  {
   "cell_type": "code",
   "execution_count": 7,
   "source": [
    "import matplotlib.pyplot as plt\n",
    "import matplotlib.patches as patches\n",
    "\n",
    "def plot_rect(data, delta=0.4):\n",
    "    \"\"\"data is a dictionary, {\"Label\":(low,hi), ... }\n",
    "    return a drawing that you can manipulate, show, save etc\"\"\"\n",
    "\n",
    "    yspan = len(data)\n",
    "    yplaces = [.5+i for i in range(yspan)]\n",
    "    ylabels = sorted(data.keys())\n",
    "\n",
    "    fig = plt.figure()\n",
    "    ax = fig.add_subplot(111)\n",
    "    ax.set_yticks(yplaces)\n",
    "    ax.set_yticklabels(ylabels)\n",
    "    ax.set_ylim((0,yspan))\n",
    "\n",
    "    # later we'll need the min and max in the union of intervals\n",
    "    low, hi =  data[ylabels[0]]\n",
    "    for pos, label in zip(yplaces,ylabels):\n",
    "        start, end = data[label]\n",
    "        ax.add_patch(patches.Rectangle((start,pos-delta/2.0),end-start,delta))\n",
    "        if start<low : low=start\n",
    "        if end>hi : hi=end\n",
    "\n",
    "    # little small trick, draw an invisible line so that the x axis\n",
    "    # limits are automatically adjusted...\n",
    "    ax.plot((low,hi),(0,0))\n",
    "\n",
    "    # now get the limits as automatically computed\n",
    "    xmin, xmax = ax.get_xlim()\n",
    "    # and use them to draw the hlines in your example\n",
    "    ax.hlines(range(1,yspan),xmin,xmax)\n",
    "    # the vlines are simply the x grid lines\n",
    "    ax.grid(axis='x')\n",
    "    # eventually return what we have done\n",
    "    return ax\n",
    "\n",
    "# this is the main script, note that we have imported pyplot as plt\n",
    "\n",
    "# the data, inspired by your example, \n",
    "data = {'A':(1901,1921),\n",
    "        'B':(1917,1935),\n",
    "        'C':(1929,1948),\n",
    "        'D':(1943,1963),\n",
    "        'E':(1957,1983),\n",
    "        'F':(1975,1991),\n",
    "        'G':(1989,2007)}\n",
    "\n",
    "# call the function and give its result a name\n",
    "ax = plot_rect(data)\n",
    "# so that we can further manipulate it using the `axes` methods, e.g.\n",
    "ax.set_xlabel('Whatever')\n",
    "# finally save or show what we have\n",
    "plt.show()"
   ],
   "outputs": [
    {
     "output_type": "display_data",
     "data": {
      "image/png": "[encoded data removed]",
      "text/plain": [
       "<Figure size 432x288 with 1 Axes>"
      ]
     },
     "metadata": {
      "needs_background": "light"
     }
    }
   ],
   "metadata": {}
  }
 ],
 "metadata": {
  "kernelspec": {
   "name": "python3",
   "display_name": "Python 3.9.5 64-bit"
  },
  "language_info": {
   "codemirror_mode": {
    "name": "ipython",
    "version": 3
   },
   "file_extension": ".py",
   "mimetype": "text/x-python",
   "name": "python",
   "nbconvert_exporter": "python",
   "pygments_lexer": "ipython3",
   "version": "3.9.5"
  },
  "interpreter": {
   "hash": "916dbcbb3f70747c44a77c7bcd40155683ae19c65e1c03b4aa3499c5328201f1"
  }
 },
 "nbformat": 4,
 "nbformat_minor": 5
}